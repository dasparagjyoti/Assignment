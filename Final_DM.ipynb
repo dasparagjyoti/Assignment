{
  "nbformat": 4,
  "nbformat_minor": 0,
  "metadata": {
    "colab": {
      "name": "Final DM Assignment.ipynb",
      "provenance": [],
      "collapsed_sections": []
    },
    "kernelspec": {
      "display_name": "Python 3",
      "name": "python3"
    },
    "language_info": {
      "name": "python"
    }
  },
  "cells": [
    {
      "cell_type": "code",
      "metadata": {
        "id": "mmxP1UJfgdsX"
      },
      "source": [
        "!apt-get install openjdk-8-jdk-headless -qq > /dev/null"
      ],
      "execution_count": null,
      "outputs": []
    },
    {
      "cell_type": "code",
      "metadata": {
        "id": "REXi3EXagjsZ"
      },
      "source": [
        "!wget -q ftp://mirror.klaus-uwe.me/apache/spark/spark-2.4.7/spark-2.4.7-bin-hadoop2.7.tgz"
      ],
      "execution_count": null,
      "outputs": []
    },
    {
      "cell_type": "code",
      "metadata": {
        "id": "zVuIwwXvglrP"
      },
      "source": [
        "!tar xf spark-2.4.7-bin-hadoop2.7.tgz"
      ],
      "execution_count": null,
      "outputs": []
    },
    {
      "cell_type": "code",
      "metadata": {
        "id": "3XjAESjggnWg"
      },
      "source": [
        "!pip install -q findspark"
      ],
      "execution_count": null,
      "outputs": []
    },
    {
      "cell_type": "code",
      "metadata": {
        "id": "vmDMWQkWgpY6"
      },
      "source": [
        "import os\n",
        "os.environ[\"JAVA_HOME\"] = \"/usr/lib/jvm/java-8-openjdk-amd64\"\n",
        "os.environ[\"SPARK_HOME\"] = \"/content/spark-2.4.7-bin-hadoop2.7\""
      ],
      "execution_count": null,
      "outputs": []
    },
    {
      "cell_type": "code",
      "metadata": {
        "colab": {
          "base_uri": "https://localhost:8080/"
        },
        "id": "Ee7bqfb6g1wC",
        "outputId": "93cde37c-1c3d-4808-a72d-05c639a889fe"
      },
      "source": [
        "import findspark\n",
        "findspark.init()\n",
        "from pyspark.sql import SparkSession\n",
        "spark = SparkSession.builder.master(\"local[*]\").getOrCreate()\n",
        "# Test the spark\n",
        "df = spark.createDataFrame([{\"hello\": \"world\"} for x in range(1000)])\n",
        "df.show(3, False)"
      ],
      "execution_count": null,
      "outputs": [
        {
          "output_type": "stream",
          "text": [
            "/content/spark-2.4.7-bin-hadoop2.7/python/pyspark/sql/session.py:346: UserWarning: inferring schema from dict is deprecated,please use pyspark.sql.Row instead\n",
            "  warnings.warn(\"inferring schema from dict is deprecated,\"\n"
          ],
          "name": "stderr"
        },
        {
          "output_type": "stream",
          "text": [
            "+-----+\n",
            "|hello|\n",
            "+-----+\n",
            "|world|\n",
            "|world|\n",
            "|world|\n",
            "+-----+\n",
            "only showing top 3 rows\n",
            "\n"
          ],
          "name": "stdout"
        }
      ]
    },
    {
      "cell_type": "code",
      "metadata": {
        "colab": {
          "base_uri": "https://localhost:8080/"
        },
        "id": "iPZkHxdzg6-v",
        "outputId": "74753014-3510-479c-9be6-cb24cc7bb447"
      },
      "source": [
        "# Check the pyspark version\n",
        "import pyspark\n",
        "print(pyspark.__version__)"
      ],
      "execution_count": null,
      "outputs": [
        {
          "output_type": "stream",
          "text": [
            "2.4.7\n"
          ],
          "name": "stdout"
        }
      ]
    },
    {
      "cell_type": "code",
      "metadata": {
        "id": "P7FJFT7Wg9vZ"
      },
      "source": [
        "from pyspark.sql import SparkSession\n",
        "spark = SparkSession.builder.appName('cluster').getOrCreate()"
      ],
      "execution_count": null,
      "outputs": []
    },
    {
      "cell_type": "code",
      "metadata": {
        "colab": {
          "base_uri": "https://localhost:8080/"
        },
        "id": "nlDjbF8ShCe4",
        "outputId": "92a6045a-e691-4820-aeac-0e8c230a88ea"
      },
      "source": [
        "from pyspark.ml.clustering import KMeans\n",
        "\n",
        "dataset = spark.read.csv(\"Book1.csv\",header=True,inferSchema=True)\n",
        "\n",
        "dataset.show()\n"
      ],
      "execution_count": null,
      "outputs": [
        {
          "output_type": "stream",
          "text": [
            "+--------------+--------------------+--------------+--------------------+-----------+------+--------------------+-----------------+--------------+--------------+--------------------+-----------------------------------------+-----------+--------------------+------------------+--------------------+--------------------+--------------------+--------------------+---------+\n",
            "|Patient Number|State Patient Number|Date Announced|Estimated Onset Date|Age Bracket|Gender|       Detected City|Detected District|Detected State|Current Status|               Notes|Contracted from which Patient (Suspected)|Nationality|Type of transmission|Status Change Date|            Source_1|            Source_2|            Source_3|        Backup Notes|Num Cases|\n",
            "+--------------+--------------------+--------------+--------------------+-----------+------+--------------------+-----------------+--------------+--------------+--------------------+-----------------------------------------+-----------+--------------------+------------------+--------------------+--------------------+--------------------+--------------------+---------+\n",
            "|             1|            KL-TS-P1|     1/30/2020|                null|         20|     F|            Thrissur|         Thrissur|        Kerala|     Recovered|Travelled from Wuhan|                                       P6|      India|            Imported|         2/14/2020|https://twitter.c...|https://weather.c...|https://weather.c...|  Student from Wuhan|        1|\n",
            "|             2|            KL-AL-P1|      2/2/2020|                null|         45|     M|           Alappuzha|        Alappuzha|        Kerala|     Recovered|Travelled from Wuhan|                                       P6|      India|            Imported|         2/14/2020|https://www.india...|https://weather.c...|https://www.thehi...|  Student from Wuhan|        1|\n",
            "|             3|            KL-KS-P1|      2/3/2020|                null|         24|     M|           Kasaragod|        Kasaragod|        Kerala|     Recovered|Travelled from Wuhan|                                       P6|      India|            Imported|         2/14/2020|https://www.india...|https://twitter.c...|https://twitter.c...|  Student from Wuhan|        1|\n",
            "|             4|               DL-P1|      3/2/2020|                null|         69|     M|East Delhi (Mayur...|       East Delhi|         Delhi|     Recovered|Travelled from Au...|                                       P6|      India|            Imported|         3/15/2020|https://www.india...|https://economict...|https://economict...|Travel history to...|        1|\n",
            "|             5|               TS-P1|      3/2/2020|                null|         55|     F|           Hyderabad|        Hyderabad|     Telangana|     Recovered|Travelled from Du...|                                       P6|      India|            Imported|          3/2/2020|https://www.decca...|https://www.india...|https://timesofin...|Travel history to...|        1|\n",
            "|             6|               DL-P2|      3/3/2020|                null|         55|     M|              Jaipur|         Italians|     Rajasthan|     Recovered|Travelled from Italy|                                       P6|      Italy|            Imported|          3/3/2020|https://indianexp...|https://economict...|http://health.del...|     Italian tourist|        1|\n",
            "|             7|               DL-P3|      3/4/2020|                null|         55|     F|            Gurugram|         Italians|       Haryana|     Recovered|Travelled from Italy|                                       P6|      Italy|            Imported|         3/29/2020|https://indianexp...|https://www.india...|https://www.india...|     Italian tourist|        1|\n",
            "|             8|               TN-P1|      3/4/2020|                null|         55|     F|            Gurugram|         Italians|       Haryana|     Recovered|Travelled from Italy|                                       P6|      Italy|            Imported|         3/29/2020|https://indianexp...|https://www.india...|http://dhs.kerala...|     Italian tourist|        1|\n",
            "|             9|            KL-PT-P1|      3/4/2020|                null|         55|     M|            Gurugram|         Italians|       Haryana|     Recovered|Travelled from Italy|                                       P6|      Italy|            Imported|         3/29/2020|https://indianexp...|https://www.india...|http://dhs.kerala...|     Italian tourist|        1|\n",
            "|            10|            KL-PT-P1|      3/4/2020|                null|         55|     M|            Gurugram|         Italians|       Haryana|     Recovered|Travelled from Italy|                                       P6|      Italy|            Imported|         3/29/2020|https://indianexp...|https://www.india...|http://dhs.kerala...|     Italian tourist|        1|\n",
            "|            11|            KL-P1-P1|      3/4/2020|                null|         55|     M|            Gurugram|         Italians|       Haryana|     Recovered|Travelled from Italy|                                       P6|      Italy|            Imported|         3/29/2020|https://indianexp...|https://www.india...|http://dhs.kerala...|     Italian tourist|        1|\n",
            "|            12|            KL-PT-P2|      3/4/2020|                null|         55|     M|            Gurugram|         Italians|       Haryana|     Recovered|Travelled from Italy|                                       P6|      Italy|            Imported|         3/29/2020|https://indianexp...|https://www.india...|http://dhs.kerala...|     Italian tourist|        1|\n",
            "|            13|            KL-PT-P2|      3/4/2020|                null|         55|     M|            Gurugram|         Italians|       Haryana|     Recovered|Travelled from Italy|                                       P6|      Italy|            Imported|         3/29/2020|https://indianexp...|https://www.india...|https://www.hindu...|     Italian tourist|        1|\n",
            "|            14|               DL-P4|      3/4/2020|                null|         55|     M|            Gurugram|         Italians|       Haryana|     Recovered|Travelled from Italy|                                       P6|      Italy|            Imported|         3/29/2020|https://indianexp...|https://www.india...|https://www.thehi...|     Italian tourist|        1|\n",
            "|            15|               KA-P1|      3/4/2020|                null|         55|     M|            Gurugram|         Italians|       Haryana|     Recovered|Travelled from Italy|                                       P6|      Italy|            Imported|         3/29/2020|https://indianexp...|https://www.india...|https://www.thehi...|     Italian tourist|        1|\n",
            "|            16|             KL-KN-1|      3/4/2020|                null|         55|     M|            Gurugram|         Italians|       Haryana|     Recovered|Travelled from Italy|                                       P4|      Italy|            Imported|         3/29/2020|https://indianexp...|https://www.india...|https://www.thehi...|     Italian tourist|        1|\n",
            "|            17|               PJ-P1|      3/4/2020|                null|         55|     M|            Gurugram|         Italians|       Haryana|     Recovered|Travelled from Italy|                                       P4|      Italy|            Imported|         3/29/2020|https://indianexp...|https://www.india...|https://www.thehi...|     Italian tourist|        1|\n",
            "|            18|            KL-PT-P3|      3/4/2020|                null|         55|     F|            Gurugram|         Italians|       Haryana|  Hospitalized|Travelled from Italy|                                       P4|      Italy|            Imported|         3/29/2020|https://indianexp...|https://www.india...|https://www.faceb...|     Italian tourist|        1|\n",
            "|            19|            KL-PT-P4|      3/4/2020|                null|         70|     M|            Gurugram|         Italians|       Haryana|  Hospitalized|Travelled from Italy|                                       P4|      Italy|            Imported|          3/4/2020|https://indianexp...|https://www.india...|https://www.faceb...|     Italian tourist|        1|\n",
            "|            20|               KA-P2|      3/4/2020|                null|         45|     F|            Gurugram|         Italians|       Haryana|     Recovered|Travelled from Italy|                                       P4|      Italy|            Imported|          3/4/2020|https://indianexp...|https://www.india...|https://english.m...|     Italian tourist|        1|\n",
            "+--------------+--------------------+--------------+--------------------+-----------+------+--------------------+-----------------+--------------+--------------+--------------------+-----------------------------------------+-----------+--------------------+------------------+--------------------+--------------------+--------------------+--------------------+---------+\n",
            "only showing top 20 rows\n",
            "\n"
          ],
          "name": "stdout"
        }
      ]
    },
    {
      "cell_type": "code",
      "metadata": {
        "colab": {
          "base_uri": "https://localhost:8080/"
        },
        "id": "tXH-3zYX8wdk",
        "outputId": "52ee9998-f135-4387-b21c-c3ac85600358"
      },
      "source": [
        "type(dataset)"
      ],
      "execution_count": null,
      "outputs": [
        {
          "output_type": "execute_result",
          "data": {
            "text/plain": [
              "pyspark.sql.dataframe.DataFrame"
            ]
          },
          "metadata": {
            "tags": []
          },
          "execution_count": 14
        }
      ]
    },
    {
      "cell_type": "code",
      "metadata": {
        "colab": {
          "base_uri": "https://localhost:8080/"
        },
        "id": "p2u6VsR48jk-",
        "outputId": "c233c232-9044-4f12-f43e-275eb2eff562"
      },
      "source": [
        "dataset.head()"
      ],
      "execution_count": null,
      "outputs": [
        {
          "output_type": "execute_result",
          "data": {
            "text/plain": [
              "Row(Patient Number=1, State Patient Number='KL-TS-P1', Date Announced='1/30/2020', Estimated Onset Date=None, Age Bracket=20, Gender='F', Detected City='Thrissur', Detected District='Thrissur', Detected State='Kerala', Current Status='Recovered', Notes='Travelled from Wuhan', Contracted from which Patient (Suspected)='P6', Nationality='India', Type of transmission='Imported', Status Change Date='2/14/2020', Source_1='https://twitter.com/vijayanpinarayi/status/1222819465143832577', Source_2='https://weather.com/en-IN/india/news/news/2020-02-14-kerala-defeats-coronavirus-indias-three-covid-19-patients-successfully', Source_3='https://weather.com/en-IN/india/news/news/2020-02-14-kerala-defeats-coronavirus-indias-three-covid-19-patients-successfully', Backup Notes='Student from Wuhan', Num Cases=1)"
            ]
          },
          "metadata": {
            "tags": []
          },
          "execution_count": 15
        }
      ]
    },
    {
      "cell_type": "code",
      "metadata": {
        "colab": {
          "base_uri": "https://localhost:8080/"
        },
        "id": "H3Aj2Ejv9LtH",
        "outputId": "57c50f3e-9157-43eb-dc2e-9f8b8d1c83ef"
      },
      "source": [
        " dataset.collect()\n"
      ],
      "execution_count": null,
      "outputs": [
        {
          "output_type": "execute_result",
          "data": {
            "text/plain": [
              "[Row(Patient Number=1, State Patient Number='KL-TS-P1', Date Announced='1/30/2020', Estimated Onset Date=None, Age Bracket=20, Gender='F', Detected City='Thrissur', Detected District='Thrissur', Detected State='Kerala', Current Status='Recovered', Notes='Travelled from Wuhan', Contracted from which Patient (Suspected)='P6', Nationality='India', Type of transmission='Imported', Status Change Date='2/14/2020', Source_1='https://twitter.com/vijayanpinarayi/status/1222819465143832577', Source_2='https://weather.com/en-IN/india/news/news/2020-02-14-kerala-defeats-coronavirus-indias-three-covid-19-patients-successfully', Source_3='https://weather.com/en-IN/india/news/news/2020-02-14-kerala-defeats-coronavirus-indias-three-covid-19-patients-successfully', Backup Notes='Student from Wuhan', Num Cases=1),\n",
              " Row(Patient Number=2, State Patient Number='KL-AL-P1', Date Announced='2/2/2020', Estimated Onset Date=None, Age Bracket=45, Gender='M', Detected City='Alappuzha', Detected District='Alappuzha', Detected State='Kerala', Current Status='Recovered', Notes='Travelled from Wuhan', Contracted from which Patient (Suspected)='P6', Nationality='India', Type of transmission='Imported', Status Change Date='2/14/2020', Source_1='https://www.indiatoday.in/india/story/kerala-reports-second-case-of-coronavirus-1642494-2020-02-02', Source_2='https://weather.com/en-IN/india/news/news/2020-02-14-kerala-defeats-coronavirus-indias-three-covid-19-patients-successfully', Source_3='https://www.thehindu.com/news/national/coronavirus-live-updates-march-14-2020/article31066969.ece', Backup Notes='Student from Wuhan', Num Cases=1),\n",
              " Row(Patient Number=3, State Patient Number='KL-KS-P1', Date Announced='2/3/2020', Estimated Onset Date=None, Age Bracket=24, Gender='M', Detected City='Kasaragod', Detected District='Kasaragod', Detected State='Kerala', Current Status='Recovered', Notes='Travelled from Wuhan', Contracted from which Patient (Suspected)='P6', Nationality='India', Type of transmission='Imported', Status Change Date='2/14/2020', Source_1='https://www.indiatoday.in/india/story/kerala-now-confirms-third-case-of-coronavirus-1642789-2020-02-03', Source_2='https://twitter.com/ANI/status/1224221485805395968?s=20', Source_3='https://twitter.com/PTI_News/status/1240878975846506496', Backup Notes='Student from Wuhan', Num Cases=1),\n",
              " Row(Patient Number=4, State Patient Number='DL-P1', Date Announced='3/2/2020', Estimated Onset Date=None, Age Bracket=69, Gender='M', Detected City='East Delhi (Mayur Vihar)', Detected District='East Delhi', Detected State='Delhi', Current Status='Recovered', Notes='Travelled from Austria, Italy', Contracted from which Patient (Suspected)='P6', Nationality='India', Type of transmission='Imported', Status Change Date='3/15/2020', Source_1='https://www.indiatoday.in/india/story/not-a-jail-delhi-s-1st-covid-19-patient-recalls-time-in-isolation-ward-has-this-one-tip-for-others-1656088-2020-03-16', Source_2='https://economictimes.indiatimes.com/news/politics-and-nation/coronavirus-cases-in-india-live-news-latest-updates-mar2/liveblog/74432375.cms', Source_3='https://economictimes.indiatimes.com/news/politics-and-nation/all-3-old-corona-positive-patients-cured-one-new-virus-hit-man-undergoing-treatment-official/articleshow/74638120.cms?from=mdr', Backup Notes='Travel history to Italy and Austria', Num Cases=1),\n",
              " Row(Patient Number=5, State Patient Number='TS-P1', Date Announced='3/2/2020', Estimated Onset Date=None, Age Bracket=55, Gender='F', Detected City='Hyderabad', Detected District='Hyderabad', Detected State='Telangana', Current Status='Recovered', Notes='Travelled from Dubai to Bangalore on 20th Feb, stayed there for 2 days and took a bus to Hyderabad', Contracted from which Patient (Suspected)='P6', Nationality='India', Type of transmission='Imported', Status Change Date='3/2/2020', Source_1='https://www.deccanherald.com/national/south/quarantine-not-a-jail-no-stigma-attached-telanganas-first-coronavirus-case-and-survivor-819012.html', Source_2='https://www.indiatoday.in/india/story/coronavirus-in-india-tracking-country-s-first-50-covid-19-cases-what-numbers-tell-1654468-2020-03-12', Source_3='https://timesofindia.indiatimes.com/city/mumbai/coronavirus-in-india-live-updates-march-18-2020/liveblog/74683100.cms', Backup Notes='Travel history to Dubai, Singapore contact', Num Cases=1),\n",
              " Row(Patient Number=6, State Patient Number='DL-P2', Date Announced='3/3/2020', Estimated Onset Date=None, Age Bracket=55, Gender='M', Detected City='Jaipur', Detected District='Italians', Detected State='Rajasthan', Current Status='Recovered', Notes='Travelled from Italy', Contracted from which Patient (Suspected)='P6', Nationality='Italy', Type of transmission='Imported', Status Change Date='3/3/2020', Source_1='https://indianexpress.com/article/india/coronavirus-outbreak-live-updates-pm-modi-6303338/', Source_2='https://economictimes.indiatimes.com/news/politics-and-nation/all-3-old-corona-positive-patients-cured-one-new-virus-hit-man-undergoing-treatment-official/articleshow/74638120.cms?from=mdr', Source_3='http://health.delhigovt.nic.in/wps/wcm/connect/d9bd65804d9102c6a3baf7982ee7a5c7/HB15.pdf?MOD=AJPERES&lmod=-506630906&CACHEID=d9bd65804d9102c6a3baf7982ee7a5c7', Backup Notes='Italian tourist', Num Cases=1),\n",
              " Row(Patient Number=7, State Patient Number='DL-P3', Date Announced='3/4/2020', Estimated Onset Date=None, Age Bracket=55, Gender='F', Detected City='Gurugram', Detected District='Italians', Detected State='Haryana', Current Status='Recovered', Notes='Travelled from Italy', Contracted from which Patient (Suspected)='P6', Nationality='Italy', Type of transmission='Imported', Status Change Date='3/29/2020', Source_1='https://indianexpress.com/article/india/coronavirus-outbreak-live-updates-pm-modi-6303338/', Source_2='https://www.indiatoday.in/india/story/coronavirus-in-india-tracking-country-s-first-50-covid-19-cases-what-numbers-tell-1654468-2020-03-12', Source_3='https://www.indiatoday.in/india/story/coronavirus-in-india-tracking-country-s-first-50-covid-19-cases-what-numbers-tell-1654468-2020-03-12', Backup Notes='Italian tourist', Num Cases=1),\n",
              " Row(Patient Number=8, State Patient Number='TN-P1', Date Announced='3/4/2020', Estimated Onset Date=None, Age Bracket=55, Gender='F', Detected City='Gurugram', Detected District='Italians', Detected State='Haryana', Current Status='Recovered', Notes='Travelled from Italy', Contracted from which Patient (Suspected)='P6', Nationality='Italy', Type of transmission='Imported', Status Change Date='3/29/2020', Source_1='https://indianexpress.com/article/india/coronavirus-outbreak-live-updates-pm-modi-6303338/', Source_2='https://www.indiatoday.in/india/story/coronavirus-in-india-tracking-country-s-first-50-covid-19-cases-what-numbers-tell-1654468-2020-03-12', Source_3='http://dhs.kerala.gov.in/wp-content/uploads/2020/03/Daily-Bulletin-English-29th-March.pdf', Backup Notes='Italian tourist', Num Cases=1),\n",
              " Row(Patient Number=9, State Patient Number='KL-PT-P1', Date Announced='3/4/2020', Estimated Onset Date=None, Age Bracket=55, Gender='M', Detected City='Gurugram', Detected District='Italians', Detected State='Haryana', Current Status='Recovered', Notes='Travelled from Italy', Contracted from which Patient (Suspected)='P6', Nationality='Italy', Type of transmission='Imported', Status Change Date='3/29/2020', Source_1='https://indianexpress.com/article/india/coronavirus-outbreak-live-updates-pm-modi-6303338/', Source_2='https://www.indiatoday.in/india/story/coronavirus-in-india-tracking-country-s-first-50-covid-19-cases-what-numbers-tell-1654468-2020-03-12', Source_3='http://dhs.kerala.gov.in/wp-content/uploads/2020/03/Daily-Bulletin-English-29th-March.pdf', Backup Notes='Italian tourist', Num Cases=1),\n",
              " Row(Patient Number=10, State Patient Number='KL-PT-P1', Date Announced='3/4/2020', Estimated Onset Date=None, Age Bracket=55, Gender='M', Detected City='Gurugram', Detected District='Italians', Detected State='Haryana', Current Status='Recovered', Notes='Travelled from Italy', Contracted from which Patient (Suspected)='P6', Nationality='Italy', Type of transmission='Imported', Status Change Date='3/29/2020', Source_1='https://indianexpress.com/article/india/coronavirus-outbreak-live-updates-pm-modi-6303338/', Source_2='https://www.indiatoday.in/india/story/coronavirus-in-india-tracking-country-s-first-50-covid-19-cases-what-numbers-tell-1654468-2020-03-12', Source_3='http://dhs.kerala.gov.in/wp-content/uploads/2020/03/Daily-Bulletin-English-29th-March.pdf', Backup Notes='Italian tourist', Num Cases=1),\n",
              " Row(Patient Number=11, State Patient Number='KL-P1-P1', Date Announced='3/4/2020', Estimated Onset Date=None, Age Bracket=55, Gender='M', Detected City='Gurugram', Detected District='Italians', Detected State='Haryana', Current Status='Recovered', Notes='Travelled from Italy', Contracted from which Patient (Suspected)='P6', Nationality='Italy', Type of transmission='Imported', Status Change Date='3/29/2020', Source_1='https://indianexpress.com/article/india/coronavirus-outbreak-live-updates-pm-modi-6303338/', Source_2='https://www.indiatoday.in/india/story/coronavirus-in-india-tracking-country-s-first-50-covid-19-cases-what-numbers-tell-1654468-2020-03-12', Source_3='http://dhs.kerala.gov.in/wp-content/uploads/2020/03/Daily-Bulletin-English-29th-March.pdf', Backup Notes='Italian tourist', Num Cases=1),\n",
              " Row(Patient Number=12, State Patient Number='KL-PT-P2', Date Announced='3/4/2020', Estimated Onset Date=None, Age Bracket=55, Gender='M', Detected City='Gurugram', Detected District='Italians', Detected State='Haryana', Current Status='Recovered', Notes='Travelled from Italy', Contracted from which Patient (Suspected)='P6', Nationality='Italy', Type of transmission='Imported', Status Change Date='3/29/2020', Source_1='https://indianexpress.com/article/india/coronavirus-outbreak-live-updates-pm-modi-6303338/', Source_2='https://www.indiatoday.in/india/story/coronavirus-in-india-tracking-country-s-first-50-covid-19-cases-what-numbers-tell-1654468-2020-03-12', Source_3='http://dhs.kerala.gov.in/wp-content/uploads/2020/03/Daily-Bulletin-English-29th-March.pdf', Backup Notes='Italian tourist', Num Cases=1),\n",
              " Row(Patient Number=13, State Patient Number='KL-PT-P2', Date Announced='3/4/2020', Estimated Onset Date=None, Age Bracket=55, Gender='M', Detected City='Gurugram', Detected District='Italians', Detected State='Haryana', Current Status='Recovered', Notes='Travelled from Italy', Contracted from which Patient (Suspected)='P6', Nationality='Italy', Type of transmission='Imported', Status Change Date='3/29/2020', Source_1='https://indianexpress.com/article/india/coronavirus-outbreak-live-updates-pm-modi-6303338/', Source_2='https://www.indiatoday.in/india/story/coronavirus-in-india-tracking-country-s-first-50-covid-19-cases-what-numbers-tell-1654468-2020-03-12', Source_3='https://www.hindustantimes.com/cities/two-more-delhi-residents-test-positive-for-covid-19-total-now-10/story-eZf1cfA2jqI6n7owy6xPXJ.html', Backup Notes='Italian tourist', Num Cases=1),\n",
              " Row(Patient Number=14, State Patient Number='DL-P4', Date Announced='3/4/2020', Estimated Onset Date=None, Age Bracket=55, Gender='M', Detected City='Gurugram', Detected District='Italians', Detected State='Haryana', Current Status='Recovered', Notes='Travelled from Italy', Contracted from which Patient (Suspected)='P6', Nationality='Italy', Type of transmission='Imported', Status Change Date='3/29/2020', Source_1='https://indianexpress.com/article/india/coronavirus-outbreak-live-updates-pm-modi-6303338/', Source_2='https://www.indiatoday.in/india/story/coronavirus-in-india-tracking-country-s-first-50-covid-19-cases-what-numbers-tell-1654468-2020-03-12', Source_3='https://www.thehindu.com/news/national/coronavirus-live-updates-march-9-2020/article31020875.ece', Backup Notes='Italian tourist', Num Cases=1),\n",
              " Row(Patient Number=15, State Patient Number='KA-P1', Date Announced='3/4/2020', Estimated Onset Date=None, Age Bracket=55, Gender='M', Detected City='Gurugram', Detected District='Italians', Detected State='Haryana', Current Status='Recovered', Notes='Travelled from Italy', Contracted from which Patient (Suspected)='P6', Nationality='Italy', Type of transmission='Imported', Status Change Date='3/29/2020', Source_1='https://indianexpress.com/article/india/coronavirus-outbreak-live-updates-pm-modi-6303338/', Source_2='https://www.indiatoday.in/india/story/coronavirus-in-india-tracking-country-s-first-50-covid-19-cases-what-numbers-tell-1654468-2020-03-12', Source_3='https://www.thehindu.com/news/national/coronavirus-live-updates-march-9-2020/article31020875.ece', Backup Notes='Italian tourist', Num Cases=1),\n",
              " Row(Patient Number=16, State Patient Number='KL-KN-1', Date Announced='3/4/2020', Estimated Onset Date=None, Age Bracket=55, Gender='M', Detected City='Gurugram', Detected District='Italians', Detected State='Haryana', Current Status='Recovered', Notes='Travelled from Italy', Contracted from which Patient (Suspected)='P4', Nationality='Italy', Type of transmission='Imported', Status Change Date='3/29/2020', Source_1='https://indianexpress.com/article/india/coronavirus-outbreak-live-updates-pm-modi-6303338/', Source_2='https://www.indiatoday.in/india/story/coronavirus-in-india-tracking-country-s-first-50-covid-19-cases-what-numbers-tell-1654468-2020-03-12', Source_3='https://www.thehindu.com/news/national/kerala/coronavirus-five-more-people-from-kerala-test-positive-for-covid-19/article31014406.ece', Backup Notes='Italian tourist', Num Cases=1),\n",
              " Row(Patient Number=17, State Patient Number='PJ-P1', Date Announced='3/4/2020', Estimated Onset Date=None, Age Bracket=55, Gender='M', Detected City='Gurugram', Detected District='Italians', Detected State='Haryana', Current Status='Recovered', Notes='Travelled from Italy', Contracted from which Patient (Suspected)='P4', Nationality='Italy', Type of transmission='Imported', Status Change Date='3/29/2020', Source_1='https://indianexpress.com/article/india/coronavirus-outbreak-live-updates-pm-modi-6303338/', Source_2='https://www.indiatoday.in/india/story/coronavirus-in-india-tracking-country-s-first-50-covid-19-cases-what-numbers-tell-1654468-2020-03-12', Source_3='https://www.thehindu.com/news/national/kerala/coronavirus-five-more-people-from-kerala-test-positive-for-covid-19/article31014406.ece', Backup Notes='Italian tourist', Num Cases=1),\n",
              " Row(Patient Number=18, State Patient Number='KL-PT-P3', Date Announced='3/4/2020', Estimated Onset Date=None, Age Bracket=55, Gender='F', Detected City='Gurugram', Detected District='Italians', Detected State='Haryana', Current Status='Hospitalized', Notes='Travelled from Italy', Contracted from which Patient (Suspected)='P4', Nationality='Italy', Type of transmission='Imported', Status Change Date='3/29/2020', Source_1='https://indianexpress.com/article/india/coronavirus-outbreak-live-updates-pm-modi-6303338/', Source_2='https://www.indiatoday.in/india/story/coronavirus-in-india-tracking-country-s-first-50-covid-19-cases-what-numbers-tell-1654468-2020-03-12', Source_3='https://www.facebook.com/kkshailaja/posts/2892388584182437', Backup Notes='Italian tourist', Num Cases=1),\n",
              " Row(Patient Number=19, State Patient Number='KL-PT-P4', Date Announced='3/4/2020', Estimated Onset Date=None, Age Bracket=70, Gender='M', Detected City='Gurugram', Detected District='Italians', Detected State='Haryana', Current Status='Hospitalized', Notes='Travelled from Italy', Contracted from which Patient (Suspected)='P4', Nationality='Italy', Type of transmission='Imported', Status Change Date='3/4/2020', Source_1='https://indianexpress.com/article/india/coronavirus-outbreak-live-updates-pm-modi-6303338/', Source_2='https://www.indiatoday.in/india/story/coronavirus-in-india-tracking-country-s-first-50-covid-19-cases-what-numbers-tell-1654468-2020-03-12', Source_3='https://www.facebook.com/kkshailaja/posts/2892388584182437', Backup Notes='Italian tourist', Num Cases=1),\n",
              " Row(Patient Number=20, State Patient Number='KA-P2', Date Announced='3/4/2020', Estimated Onset Date=None, Age Bracket=45, Gender='F', Detected City='Gurugram', Detected District='Italians', Detected State='Haryana', Current Status='Recovered', Notes='Travelled from Italy', Contracted from which Patient (Suspected)='P4', Nationality='Italy', Type of transmission='Imported', Status Change Date='3/4/2020', Source_1='https://indianexpress.com/article/india/coronavirus-outbreak-live-updates-pm-modi-6303338/', Source_2='https://www.indiatoday.in/india/story/coronavirus-in-india-tracking-country-s-first-50-covid-19-cases-what-numbers-tell-1654468-2020-03-12', Source_3='https://english.manoramaonline.com/news/kerala/2020/03/13/covid-19-coronavirus-chengalam-kottayam-neighbour-dies.html', Backup Notes='Italian tourist', Num Cases=1),\n",
              " Row(Patient Number=21, State Patient Number='KA-P3', Date Announced='3/4/2020', Estimated Onset Date=None, Age Bracket=16, Gender='F', Detected City='Jaipur', Detected District='Italians', Detected State='Rajasthan', Current Status='Hospitalized', Notes='Travelled from Italy, Wife of P6', Contracted from which Patient (Suspected)='P4', Nationality='Italy', Type of transmission='Imported', Status Change Date='3/4/2020', Source_1='https://indianexpress.com/article/india/coronavirus-outbreak-live-updates-pm-modi-6303338/', Source_2='https://www.indiatoday.in/india/story/coronavirus-in-india-tracking-country-s-first-50-covid-19-cases-what-numbers-tell-1654468-2020-03-12', Source_3='https://english.manoramaonline.com/news/kerala/2020/03/13/covid-19-coronavirus-chengalam-kottayam-neighbour-dies.html', Backup Notes='Italian tourist (wife of P6)', Num Cases=1),\n",
              " Row(Patient Number=22, State Patient Number='KA-P4', Date Announced='3/4/2020', Estimated Onset Date=None, Age Bracket=27, Gender='F', Detected City='Agra', Detected District='Agra', Detected State='Uttar Pradesh', Current Status='Recovered', Notes='Family members of P4', Contracted from which Patient (Suspected)='P6', Nationality='India', Type of transmission='Local', Status Change Date='3/4/2020', Source_1='https://www.businesstoday.in/latest/trends/coronavirus-spreads-to-agra-six-cases-detected/story/397414.html', Source_2='https://www.indiatoday.in/india/story/coronavirus-in-india-tracking-country-s-first-50-covid-19-cases-what-numbers-tell-1654468-2020-03-12', Source_3='https://english.manoramaonline.com/news/kerala/2020/03/10/coronavirus-holiday-for-upto-class-7-kerala.html', Backup Notes='Family members of P4', Num Cases=1),\n",
              " Row(Patient Number=23, State Patient Number='KL-EL-P1', Date Announced='3/4/2020', Estimated Onset Date=None, Age Bracket=59, Gender='M', Detected City='Agra', Detected District='Agra', Detected State='Uttar Pradesh', Current Status='Recovered', Notes='Family members of P4', Contracted from which Patient (Suspected)='P35', Nationality='India', Type of transmission='Local', Status Change Date='3/15/2020', Source_1='https://www.businesstoday.in/latest/trends/coronavirus-spreads-to-agra-six-cases-detected/story/397414.html', Source_2='https://www.indiatoday.in/india/story/coronavirus-in-india-tracking-country-s-first-50-covid-19-cases-what-numbers-tell-1654468-2020-03-12', Source_3='https://english.manoramaonline.com/news/kerala/2020/03/10/coronavirus-holiday-for-upto-class-7-kerala.html', Backup Notes='Family members of P4', Num Cases=1)]"
            ]
          },
          "metadata": {
            "tags": []
          },
          "execution_count": 16
        }
      ]
    },
    {
      "cell_type": "code",
      "metadata": {
        "colab": {
          "base_uri": "https://localhost:8080/"
        },
        "id": "fJQjrqPi924P",
        "outputId": "44e4175d-19ea-4e0d-f9b4-5c42bc822bd9"
      },
      "source": [
        "dataset.describe().show()"
      ],
      "execution_count": null,
      "outputs": [
        {
          "output_type": "stream",
          "text": [
            "+-------+-----------------+--------------------+--------------+--------------------+------------------+------+-------------+-----------------+--------------+--------------+--------------------+-----------------------------------------+-----------+--------------------+------------------+--------------------+--------------------+--------------------+--------------------+---------+\n",
            "|summary|   Patient Number|State Patient Number|Date Announced|Estimated Onset Date|       Age Bracket|Gender|Detected City|Detected District|Detected State|Current Status|               Notes|Contracted from which Patient (Suspected)|Nationality|Type of transmission|Status Change Date|            Source_1|            Source_2|            Source_3|        Backup Notes|Num Cases|\n",
            "+-------+-----------------+--------------------+--------------+--------------------+------------------+------+-------------+-----------------+--------------+--------------+--------------------+-----------------------------------------+-----------+--------------------+------------------+--------------------+--------------------+--------------------+--------------------+---------+\n",
            "|  count|               23|                  23|            23|                   0|                23|    23|           23|               23|            23|            23|                  23|                                       23|         23|                  23|                23|                  23|                  23|                  23|                  23|       23|\n",
            "|   mean|             12.0|                null|          null|                null| 49.78260869565217|  null|         null|             null|          null|          null|                null|                                     null|       null|                null|              null|                null|                null|                null|                null|      1.0|\n",
            "| stddev|6.782329983125268|                null|          null|                null|14.304978541304898|  null|         null|             null|          null|          null|                null|                                     null|       null|                null|              null|                null|                null|                null|                null|      0.0|\n",
            "|    min|                1|               DL-P1|     1/30/2020|                null|                16|     F|         Agra|             Agra|         Delhi|  Hospitalized|Family members of P4|                                      P35|      India|            Imported|         2/14/2020|https://indianexp...|https://economict...|http://dhs.kerala...|Family members of P4|        1|\n",
            "|    max|               23|               TS-P1|      3/4/2020|                null|                70|     M|     Thrissur|         Thrissur| Uttar Pradesh|     Recovered|Travelled from Wuhan|                                       P6|      Italy|               Local|          3/4/2020|https://www.india...|https://www.india...|https://www.thehi...|Travel history to...|        1|\n",
            "+-------+-----------------+--------------------+--------------+--------------------+------------------+------+-------------+-----------------+--------------+--------------+--------------------+-----------------------------------------+-----------+--------------------+------------------+--------------------+--------------------+--------------------+--------------------+---------+\n",
            "\n"
          ],
          "name": "stdout"
        }
      ]
    },
    {
      "cell_type": "code",
      "metadata": {
        "id": "susfei0eZHXk"
      },
      "source": [
        "from pyspark.ml.feature import StringIndexer"
      ],
      "execution_count": null,
      "outputs": []
    },
    {
      "cell_type": "code",
      "metadata": {
        "colab": {
          "base_uri": "https://localhost:8080/"
        },
        "id": "g6wj6DMiZMBJ",
        "outputId": "0f00a4b7-481a-444b-f77d-1cb5e7391129"
      },
      "source": [
        "dataset.columns"
      ],
      "execution_count": null,
      "outputs": [
        {
          "output_type": "execute_result",
          "data": {
            "text/plain": [
              "['Patient Number',\n",
              " 'State Patient Number',\n",
              " 'Date Announced',\n",
              " 'Estimated Onset Date',\n",
              " 'Age Bracket',\n",
              " 'Gender',\n",
              " 'Detected City',\n",
              " 'Detected District',\n",
              " 'Detected State',\n",
              " 'Current Status',\n",
              " 'Notes',\n",
              " 'Contracted from which Patient (Suspected)',\n",
              " 'Nationality',\n",
              " 'Type of transmission',\n",
              " 'Status Change Date',\n",
              " 'Source_1',\n",
              " 'Source_2',\n",
              " 'Source_3',\n",
              " 'Backup Notes',\n",
              " 'Num Cases']"
            ]
          },
          "metadata": {
            "tags": []
          },
          "execution_count": 19
        }
      ]
    },
    {
      "cell_type": "code",
      "metadata": {
        "id": "HBO37h2RZPQZ"
      },
      "source": [
        "string_indexer = StringIndexer(inputCol ='Age Bracket', outputCol='features1')"
      ],
      "execution_count": null,
      "outputs": []
    },
    {
      "cell_type": "code",
      "metadata": {
        "colab": {
          "base_uri": "https://localhost:8080/"
        },
        "id": "qhmMXfuYZTIL",
        "outputId": "e629e73b-bc74-45ae-e8c6-d9b916997b67"
      },
      "source": [
        "final_data = string_indexer.fit(dataset).transform(dataset)\n",
        "final_data.show()"
      ],
      "execution_count": null,
      "outputs": [
        {
          "output_type": "stream",
          "text": [
            "+--------------+--------------------+--------------+--------------------+-----------+------+--------------------+-----------------+--------------+--------------+--------------------+-----------------------------------------+-----------+--------------------+------------------+--------------------+--------------------+--------------------+--------------------+---------+---------+\n",
            "|Patient Number|State Patient Number|Date Announced|Estimated Onset Date|Age Bracket|Gender|       Detected City|Detected District|Detected State|Current Status|               Notes|Contracted from which Patient (Suspected)|Nationality|Type of transmission|Status Change Date|            Source_1|            Source_2|            Source_3|        Backup Notes|Num Cases|features1|\n",
            "+--------------+--------------------+--------------+--------------------+-----------+------+--------------------+-----------------+--------------+--------------+--------------------+-----------------------------------------+-----------+--------------------+------------------+--------------------+--------------------+--------------------+--------------------+---------+---------+\n",
            "|             1|            KL-TS-P1|     1/30/2020|                null|         20|     F|            Thrissur|         Thrissur|        Kerala|     Recovered|Travelled from Wuhan|                                       P6|      India|            Imported|         2/14/2020|https://twitter.c...|https://weather.c...|https://weather.c...|  Student from Wuhan|        1|      6.0|\n",
            "|             2|            KL-AL-P1|      2/2/2020|                null|         45|     M|           Alappuzha|        Alappuzha|        Kerala|     Recovered|Travelled from Wuhan|                                       P6|      India|            Imported|         2/14/2020|https://www.india...|https://weather.c...|https://www.thehi...|  Student from Wuhan|        1|      1.0|\n",
            "|             3|            KL-KS-P1|      2/3/2020|                null|         24|     M|           Kasaragod|        Kasaragod|        Kerala|     Recovered|Travelled from Wuhan|                                       P6|      India|            Imported|         2/14/2020|https://www.india...|https://twitter.c...|https://twitter.c...|  Student from Wuhan|        1|      2.0|\n",
            "|             4|               DL-P1|      3/2/2020|                null|         69|     M|East Delhi (Mayur...|       East Delhi|         Delhi|     Recovered|Travelled from Au...|                                       P6|      India|            Imported|         3/15/2020|https://www.india...|https://economict...|https://economict...|Travel history to...|        1|      5.0|\n",
            "|             5|               TS-P1|      3/2/2020|                null|         55|     F|           Hyderabad|        Hyderabad|     Telangana|     Recovered|Travelled from Du...|                                       P6|      India|            Imported|          3/2/2020|https://www.decca...|https://www.india...|https://timesofin...|Travel history to...|        1|      0.0|\n",
            "|             6|               DL-P2|      3/3/2020|                null|         55|     M|              Jaipur|         Italians|     Rajasthan|     Recovered|Travelled from Italy|                                       P6|      Italy|            Imported|          3/3/2020|https://indianexp...|https://economict...|http://health.del...|     Italian tourist|        1|      0.0|\n",
            "|             7|               DL-P3|      3/4/2020|                null|         55|     F|            Gurugram|         Italians|       Haryana|     Recovered|Travelled from Italy|                                       P6|      Italy|            Imported|         3/29/2020|https://indianexp...|https://www.india...|https://www.india...|     Italian tourist|        1|      0.0|\n",
            "|             8|               TN-P1|      3/4/2020|                null|         55|     F|            Gurugram|         Italians|       Haryana|     Recovered|Travelled from Italy|                                       P6|      Italy|            Imported|         3/29/2020|https://indianexp...|https://www.india...|http://dhs.kerala...|     Italian tourist|        1|      0.0|\n",
            "|             9|            KL-PT-P1|      3/4/2020|                null|         55|     M|            Gurugram|         Italians|       Haryana|     Recovered|Travelled from Italy|                                       P6|      Italy|            Imported|         3/29/2020|https://indianexp...|https://www.india...|http://dhs.kerala...|     Italian tourist|        1|      0.0|\n",
            "|            10|            KL-PT-P1|      3/4/2020|                null|         55|     M|            Gurugram|         Italians|       Haryana|     Recovered|Travelled from Italy|                                       P6|      Italy|            Imported|         3/29/2020|https://indianexp...|https://www.india...|http://dhs.kerala...|     Italian tourist|        1|      0.0|\n",
            "|            11|            KL-P1-P1|      3/4/2020|                null|         55|     M|            Gurugram|         Italians|       Haryana|     Recovered|Travelled from Italy|                                       P6|      Italy|            Imported|         3/29/2020|https://indianexp...|https://www.india...|http://dhs.kerala...|     Italian tourist|        1|      0.0|\n",
            "|            12|            KL-PT-P2|      3/4/2020|                null|         55|     M|            Gurugram|         Italians|       Haryana|     Recovered|Travelled from Italy|                                       P6|      Italy|            Imported|         3/29/2020|https://indianexp...|https://www.india...|http://dhs.kerala...|     Italian tourist|        1|      0.0|\n",
            "|            13|            KL-PT-P2|      3/4/2020|                null|         55|     M|            Gurugram|         Italians|       Haryana|     Recovered|Travelled from Italy|                                       P6|      Italy|            Imported|         3/29/2020|https://indianexp...|https://www.india...|https://www.hindu...|     Italian tourist|        1|      0.0|\n",
            "|            14|               DL-P4|      3/4/2020|                null|         55|     M|            Gurugram|         Italians|       Haryana|     Recovered|Travelled from Italy|                                       P6|      Italy|            Imported|         3/29/2020|https://indianexp...|https://www.india...|https://www.thehi...|     Italian tourist|        1|      0.0|\n",
            "|            15|               KA-P1|      3/4/2020|                null|         55|     M|            Gurugram|         Italians|       Haryana|     Recovered|Travelled from Italy|                                       P6|      Italy|            Imported|         3/29/2020|https://indianexp...|https://www.india...|https://www.thehi...|     Italian tourist|        1|      0.0|\n",
            "|            16|             KL-KN-1|      3/4/2020|                null|         55|     M|            Gurugram|         Italians|       Haryana|     Recovered|Travelled from Italy|                                       P4|      Italy|            Imported|         3/29/2020|https://indianexp...|https://www.india...|https://www.thehi...|     Italian tourist|        1|      0.0|\n",
            "|            17|               PJ-P1|      3/4/2020|                null|         55|     M|            Gurugram|         Italians|       Haryana|     Recovered|Travelled from Italy|                                       P4|      Italy|            Imported|         3/29/2020|https://indianexp...|https://www.india...|https://www.thehi...|     Italian tourist|        1|      0.0|\n",
            "|            18|            KL-PT-P3|      3/4/2020|                null|         55|     F|            Gurugram|         Italians|       Haryana|  Hospitalized|Travelled from Italy|                                       P4|      Italy|            Imported|         3/29/2020|https://indianexp...|https://www.india...|https://www.faceb...|     Italian tourist|        1|      0.0|\n",
            "|            19|            KL-PT-P4|      3/4/2020|                null|         70|     M|            Gurugram|         Italians|       Haryana|  Hospitalized|Travelled from Italy|                                       P4|      Italy|            Imported|          3/4/2020|https://indianexp...|https://www.india...|https://www.faceb...|     Italian tourist|        1|      8.0|\n",
            "|            20|               KA-P2|      3/4/2020|                null|         45|     F|            Gurugram|         Italians|       Haryana|     Recovered|Travelled from Italy|                                       P4|      Italy|            Imported|          3/4/2020|https://indianexp...|https://www.india...|https://english.m...|     Italian tourist|        1|      1.0|\n",
            "+--------------+--------------------+--------------+--------------------+-----------+------+--------------------+-----------------+--------------+--------------+--------------------+-----------------------------------------+-----------+--------------------+------------------+--------------------+--------------------+--------------------+--------------------+---------+---------+\n",
            "only showing top 20 rows\n",
            "\n"
          ],
          "name": "stdout"
        }
      ]
    },
    {
      "cell_type": "code",
      "metadata": {
        "colab": {
          "base_uri": "https://localhost:8080/"
        },
        "id": "RyI5elN3emDp",
        "outputId": "2639e819-fd46-4a87-bc00-b7a7c208a988"
      },
      "source": [
        "from pyspark.ml.feature import OneHotEncoderEstimator\n",
        "\n",
        "encoder = OneHotEncoderEstimator(\n",
        "    inputCols=['Age Bracket'],  \n",
        "    outputCols=['Hello']\n",
        ")\n",
        "\n",
        "model = encoder.fit(final_data)\n",
        "encoded = model.transform(final_data)\n",
        "encoded.show()"
      ],
      "execution_count": null,
      "outputs": [
        {
          "output_type": "stream",
          "text": [
            "+--------------+--------------------+--------------+--------------------+-----------+------+--------------------+-----------------+--------------+--------------+--------------------+-----------------------------------------+-----------+--------------------+------------------+--------------------+--------------------+--------------------+--------------------+---------+---------+---------------+\n",
            "|Patient Number|State Patient Number|Date Announced|Estimated Onset Date|Age Bracket|Gender|       Detected City|Detected District|Detected State|Current Status|               Notes|Contracted from which Patient (Suspected)|Nationality|Type of transmission|Status Change Date|            Source_1|            Source_2|            Source_3|        Backup Notes|Num Cases|features1|          Hello|\n",
            "+--------------+--------------------+--------------+--------------------+-----------+------+--------------------+-----------------+--------------+--------------+--------------------+-----------------------------------------+-----------+--------------------+------------------+--------------------+--------------------+--------------------+--------------------+---------+---------+---------------+\n",
            "|             1|            KL-TS-P1|     1/30/2020|                null|         20|     F|            Thrissur|         Thrissur|        Kerala|     Recovered|Travelled from Wuhan|                                       P6|      India|            Imported|         2/14/2020|https://twitter.c...|https://weather.c...|https://weather.c...|  Student from Wuhan|        1|      6.0|(70,[20],[1.0])|\n",
            "|             2|            KL-AL-P1|      2/2/2020|                null|         45|     M|           Alappuzha|        Alappuzha|        Kerala|     Recovered|Travelled from Wuhan|                                       P6|      India|            Imported|         2/14/2020|https://www.india...|https://weather.c...|https://www.thehi...|  Student from Wuhan|        1|      1.0|(70,[45],[1.0])|\n",
            "|             3|            KL-KS-P1|      2/3/2020|                null|         24|     M|           Kasaragod|        Kasaragod|        Kerala|     Recovered|Travelled from Wuhan|                                       P6|      India|            Imported|         2/14/2020|https://www.india...|https://twitter.c...|https://twitter.c...|  Student from Wuhan|        1|      2.0|(70,[24],[1.0])|\n",
            "|             4|               DL-P1|      3/2/2020|                null|         69|     M|East Delhi (Mayur...|       East Delhi|         Delhi|     Recovered|Travelled from Au...|                                       P6|      India|            Imported|         3/15/2020|https://www.india...|https://economict...|https://economict...|Travel history to...|        1|      5.0|(70,[69],[1.0])|\n",
            "|             5|               TS-P1|      3/2/2020|                null|         55|     F|           Hyderabad|        Hyderabad|     Telangana|     Recovered|Travelled from Du...|                                       P6|      India|            Imported|          3/2/2020|https://www.decca...|https://www.india...|https://timesofin...|Travel history to...|        1|      0.0|(70,[55],[1.0])|\n",
            "|             6|               DL-P2|      3/3/2020|                null|         55|     M|              Jaipur|         Italians|     Rajasthan|     Recovered|Travelled from Italy|                                       P6|      Italy|            Imported|          3/3/2020|https://indianexp...|https://economict...|http://health.del...|     Italian tourist|        1|      0.0|(70,[55],[1.0])|\n",
            "|             7|               DL-P3|      3/4/2020|                null|         55|     F|            Gurugram|         Italians|       Haryana|     Recovered|Travelled from Italy|                                       P6|      Italy|            Imported|         3/29/2020|https://indianexp...|https://www.india...|https://www.india...|     Italian tourist|        1|      0.0|(70,[55],[1.0])|\n",
            "|             8|               TN-P1|      3/4/2020|                null|         55|     F|            Gurugram|         Italians|       Haryana|     Recovered|Travelled from Italy|                                       P6|      Italy|            Imported|         3/29/2020|https://indianexp...|https://www.india...|http://dhs.kerala...|     Italian tourist|        1|      0.0|(70,[55],[1.0])|\n",
            "|             9|            KL-PT-P1|      3/4/2020|                null|         55|     M|            Gurugram|         Italians|       Haryana|     Recovered|Travelled from Italy|                                       P6|      Italy|            Imported|         3/29/2020|https://indianexp...|https://www.india...|http://dhs.kerala...|     Italian tourist|        1|      0.0|(70,[55],[1.0])|\n",
            "|            10|            KL-PT-P1|      3/4/2020|                null|         55|     M|            Gurugram|         Italians|       Haryana|     Recovered|Travelled from Italy|                                       P6|      Italy|            Imported|         3/29/2020|https://indianexp...|https://www.india...|http://dhs.kerala...|     Italian tourist|        1|      0.0|(70,[55],[1.0])|\n",
            "|            11|            KL-P1-P1|      3/4/2020|                null|         55|     M|            Gurugram|         Italians|       Haryana|     Recovered|Travelled from Italy|                                       P6|      Italy|            Imported|         3/29/2020|https://indianexp...|https://www.india...|http://dhs.kerala...|     Italian tourist|        1|      0.0|(70,[55],[1.0])|\n",
            "|            12|            KL-PT-P2|      3/4/2020|                null|         55|     M|            Gurugram|         Italians|       Haryana|     Recovered|Travelled from Italy|                                       P6|      Italy|            Imported|         3/29/2020|https://indianexp...|https://www.india...|http://dhs.kerala...|     Italian tourist|        1|      0.0|(70,[55],[1.0])|\n",
            "|            13|            KL-PT-P2|      3/4/2020|                null|         55|     M|            Gurugram|         Italians|       Haryana|     Recovered|Travelled from Italy|                                       P6|      Italy|            Imported|         3/29/2020|https://indianexp...|https://www.india...|https://www.hindu...|     Italian tourist|        1|      0.0|(70,[55],[1.0])|\n",
            "|            14|               DL-P4|      3/4/2020|                null|         55|     M|            Gurugram|         Italians|       Haryana|     Recovered|Travelled from Italy|                                       P6|      Italy|            Imported|         3/29/2020|https://indianexp...|https://www.india...|https://www.thehi...|     Italian tourist|        1|      0.0|(70,[55],[1.0])|\n",
            "|            15|               KA-P1|      3/4/2020|                null|         55|     M|            Gurugram|         Italians|       Haryana|     Recovered|Travelled from Italy|                                       P6|      Italy|            Imported|         3/29/2020|https://indianexp...|https://www.india...|https://www.thehi...|     Italian tourist|        1|      0.0|(70,[55],[1.0])|\n",
            "|            16|             KL-KN-1|      3/4/2020|                null|         55|     M|            Gurugram|         Italians|       Haryana|     Recovered|Travelled from Italy|                                       P4|      Italy|            Imported|         3/29/2020|https://indianexp...|https://www.india...|https://www.thehi...|     Italian tourist|        1|      0.0|(70,[55],[1.0])|\n",
            "|            17|               PJ-P1|      3/4/2020|                null|         55|     M|            Gurugram|         Italians|       Haryana|     Recovered|Travelled from Italy|                                       P4|      Italy|            Imported|         3/29/2020|https://indianexp...|https://www.india...|https://www.thehi...|     Italian tourist|        1|      0.0|(70,[55],[1.0])|\n",
            "|            18|            KL-PT-P3|      3/4/2020|                null|         55|     F|            Gurugram|         Italians|       Haryana|  Hospitalized|Travelled from Italy|                                       P4|      Italy|            Imported|         3/29/2020|https://indianexp...|https://www.india...|https://www.faceb...|     Italian tourist|        1|      0.0|(70,[55],[1.0])|\n",
            "|            19|            KL-PT-P4|      3/4/2020|                null|         70|     M|            Gurugram|         Italians|       Haryana|  Hospitalized|Travelled from Italy|                                       P4|      Italy|            Imported|          3/4/2020|https://indianexp...|https://www.india...|https://www.faceb...|     Italian tourist|        1|      8.0|     (70,[],[])|\n",
            "|            20|               KA-P2|      3/4/2020|                null|         45|     F|            Gurugram|         Italians|       Haryana|     Recovered|Travelled from Italy|                                       P4|      Italy|            Imported|          3/4/2020|https://indianexp...|https://www.india...|https://english.m...|     Italian tourist|        1|      1.0|(70,[45],[1.0])|\n",
            "+--------------+--------------------+--------------+--------------------+-----------+------+--------------------+-----------------+--------------+--------------+--------------------+-----------------------------------------+-----------+--------------------+------------------+--------------------+--------------------+--------------------+--------------------+---------+---------+---------------+\n",
            "only showing top 20 rows\n",
            "\n"
          ],
          "name": "stdout"
        }
      ]
    },
    {
      "cell_type": "code",
      "metadata": {
        "id": "3WQEE_V1-wnw"
      },
      "source": [
        "from pyspark.ml.linalg import Vectors\n",
        "from pyspark.ml.feature import VectorAssembler"
      ],
      "execution_count": null,
      "outputs": []
    },
    {
      "cell_type": "code",
      "metadata": {
        "colab": {
          "base_uri": "https://localhost:8080/"
        },
        "id": "OdI5BvDj-221",
        "outputId": "260217a1-6406-4839-b3fa-7c114b99263a"
      },
      "source": [
        "dataset.columns"
      ],
      "execution_count": null,
      "outputs": [
        {
          "output_type": "execute_result",
          "data": {
            "text/plain": [
              "['Patient Number',\n",
              " 'State Patient Number',\n",
              " 'Date Announced',\n",
              " 'Estimated Onset Date',\n",
              " 'Age Bracket',\n",
              " 'Gender',\n",
              " 'Detected City',\n",
              " 'Detected District',\n",
              " 'Detected State',\n",
              " 'Current Status',\n",
              " 'Notes',\n",
              " 'Contracted from which Patient (Suspected)',\n",
              " 'Nationality',\n",
              " 'Type of transmission',\n",
              " 'Status Change Date',\n",
              " 'Source_1',\n",
              " 'Source_2',\n",
              " 'Source_3',\n",
              " 'Backup Notes',\n",
              " 'Num Cases']"
            ]
          },
          "metadata": {
            "tags": []
          },
          "execution_count": 24
        }
      ]
    },
    {
      "cell_type": "code",
      "metadata": {
        "colab": {
          "base_uri": "https://localhost:8080/"
        },
        "id": "qvdDem-RBjhI",
        "outputId": "b8e332f2-01d5-46c9-cdab-7a7606a6fd54"
      },
      "source": [
        "dataset.printSchema()"
      ],
      "execution_count": null,
      "outputs": [
        {
          "output_type": "stream",
          "text": [
            "root\n",
            " |-- Patient Number: integer (nullable = true)\n",
            " |-- State Patient Number: string (nullable = true)\n",
            " |-- Date Announced: string (nullable = true)\n",
            " |-- Estimated Onset Date: string (nullable = true)\n",
            " |-- Age Bracket: integer (nullable = true)\n",
            " |-- Gender: string (nullable = true)\n",
            " |-- Detected City: string (nullable = true)\n",
            " |-- Detected District: string (nullable = true)\n",
            " |-- Detected State: string (nullable = true)\n",
            " |-- Current Status: string (nullable = true)\n",
            " |-- Notes: string (nullable = true)\n",
            " |-- Contracted from which Patient (Suspected): string (nullable = true)\n",
            " |-- Nationality: string (nullable = true)\n",
            " |-- Type of transmission: string (nullable = true)\n",
            " |-- Status Change Date: string (nullable = true)\n",
            " |-- Source_1: string (nullable = true)\n",
            " |-- Source_2: string (nullable = true)\n",
            " |-- Source_3: string (nullable = true)\n",
            " |-- Backup Notes: string (nullable = true)\n",
            " |-- Num Cases: integer (nullable = true)\n",
            "\n"
          ],
          "name": "stdout"
        }
      ]
    },
    {
      "cell_type": "code",
      "metadata": {
        "id": "x134T3qLCW_3"
      },
      "source": [
        "from pyspark.sql.types import IntegerType\n",
        "\n",
        "dataset = dataset.withColumn('Detected City',dataset['Detected City'].cast(IntegerType()))\n",
        "dataset = dataset.withColumn('Num Cases',dataset['Num Cases'].cast(IntegerType()))\n",
        "dataset = dataset.withColumn('Patient Number',dataset['Patient Number'].cast(IntegerType()))\n",
        "dataset = dataset.withColumn('Age Bracket',dataset['Age Bracket'].cast(IntegerType()))\n",
        "dataset = dataset.withColumn('Contracted from which Patient (Suspected)',dataset['Contracted from which Patient (Suspected)'].cast(IntegerType()))\n"
      ],
      "execution_count": null,
      "outputs": []
    },
    {
      "cell_type": "code",
      "metadata": {
        "colab": {
          "base_uri": "https://localhost:8080/"
        },
        "id": "uZWUW4OTCXN9",
        "outputId": "0cf30d11-c327-45a2-abe7-ce7b20790a34"
      },
      "source": [
        "dataset.printSchema()"
      ],
      "execution_count": null,
      "outputs": [
        {
          "output_type": "stream",
          "text": [
            "root\n",
            " |-- Patient Number: integer (nullable = true)\n",
            " |-- State Patient Number: string (nullable = true)\n",
            " |-- Date Announced: string (nullable = true)\n",
            " |-- Estimated Onset Date: string (nullable = true)\n",
            " |-- Age Bracket: integer (nullable = true)\n",
            " |-- Gender: string (nullable = true)\n",
            " |-- Detected City: integer (nullable = true)\n",
            " |-- Detected District: string (nullable = true)\n",
            " |-- Detected State: string (nullable = true)\n",
            " |-- Current Status: string (nullable = true)\n",
            " |-- Notes: string (nullable = true)\n",
            " |-- Contracted from which Patient (Suspected): integer (nullable = true)\n",
            " |-- Nationality: string (nullable = true)\n",
            " |-- Type of transmission: string (nullable = true)\n",
            " |-- Status Change Date: string (nullable = true)\n",
            " |-- Source_1: string (nullable = true)\n",
            " |-- Source_2: string (nullable = true)\n",
            " |-- Source_3: string (nullable = true)\n",
            " |-- Backup Notes: string (nullable = true)\n",
            " |-- Num Cases: integer (nullable = true)\n",
            "\n"
          ],
          "name": "stdout"
        }
      ]
    },
    {
      "cell_type": "code",
      "metadata": {
        "colab": {
          "base_uri": "https://localhost:8080/"
        },
        "id": "8ICseHjvEs6K",
        "outputId": "57d10663-e5bd-4c78-afa1-e5f67c9c300e"
      },
      "source": [
        "dataset.show()"
      ],
      "execution_count": null,
      "outputs": [
        {
          "output_type": "stream",
          "text": [
            "+--------------+--------------------+--------------+--------------------+-----------+------+-------------+-----------------+--------------+--------------+--------------------+-----------------------------------------+-----------+--------------------+------------------+--------------------+--------------------+--------------------+--------------------+---------+\n",
            "|Patient Number|State Patient Number|Date Announced|Estimated Onset Date|Age Bracket|Gender|Detected City|Detected District|Detected State|Current Status|               Notes|Contracted from which Patient (Suspected)|Nationality|Type of transmission|Status Change Date|            Source_1|            Source_2|            Source_3|        Backup Notes|Num Cases|\n",
            "+--------------+--------------------+--------------+--------------------+-----------+------+-------------+-----------------+--------------+--------------+--------------------+-----------------------------------------+-----------+--------------------+------------------+--------------------+--------------------+--------------------+--------------------+---------+\n",
            "|             1|            KL-TS-P1|     1/30/2020|                null|         20|     F|         null|         Thrissur|        Kerala|     Recovered|Travelled from Wuhan|                                     null|      India|            Imported|         2/14/2020|https://twitter.c...|https://weather.c...|https://weather.c...|  Student from Wuhan|        1|\n",
            "|             2|            KL-AL-P1|      2/2/2020|                null|         45|     M|         null|        Alappuzha|        Kerala|     Recovered|Travelled from Wuhan|                                     null|      India|            Imported|         2/14/2020|https://www.india...|https://weather.c...|https://www.thehi...|  Student from Wuhan|        1|\n",
            "|             3|            KL-KS-P1|      2/3/2020|                null|         24|     M|         null|        Kasaragod|        Kerala|     Recovered|Travelled from Wuhan|                                     null|      India|            Imported|         2/14/2020|https://www.india...|https://twitter.c...|https://twitter.c...|  Student from Wuhan|        1|\n",
            "|             4|               DL-P1|      3/2/2020|                null|         69|     M|         null|       East Delhi|         Delhi|     Recovered|Travelled from Au...|                                     null|      India|            Imported|         3/15/2020|https://www.india...|https://economict...|https://economict...|Travel history to...|        1|\n",
            "|             5|               TS-P1|      3/2/2020|                null|         55|     F|         null|        Hyderabad|     Telangana|     Recovered|Travelled from Du...|                                     null|      India|            Imported|          3/2/2020|https://www.decca...|https://www.india...|https://timesofin...|Travel history to...|        1|\n",
            "|             6|               DL-P2|      3/3/2020|                null|         55|     M|         null|         Italians|     Rajasthan|     Recovered|Travelled from Italy|                                     null|      Italy|            Imported|          3/3/2020|https://indianexp...|https://economict...|http://health.del...|     Italian tourist|        1|\n",
            "|             7|               DL-P3|      3/4/2020|                null|         55|     F|         null|         Italians|       Haryana|     Recovered|Travelled from Italy|                                     null|      Italy|            Imported|         3/29/2020|https://indianexp...|https://www.india...|https://www.india...|     Italian tourist|        1|\n",
            "|             8|               TN-P1|      3/4/2020|                null|         55|     F|         null|         Italians|       Haryana|     Recovered|Travelled from Italy|                                     null|      Italy|            Imported|         3/29/2020|https://indianexp...|https://www.india...|http://dhs.kerala...|     Italian tourist|        1|\n",
            "|             9|            KL-PT-P1|      3/4/2020|                null|         55|     M|         null|         Italians|       Haryana|     Recovered|Travelled from Italy|                                     null|      Italy|            Imported|         3/29/2020|https://indianexp...|https://www.india...|http://dhs.kerala...|     Italian tourist|        1|\n",
            "|            10|            KL-PT-P1|      3/4/2020|                null|         55|     M|         null|         Italians|       Haryana|     Recovered|Travelled from Italy|                                     null|      Italy|            Imported|         3/29/2020|https://indianexp...|https://www.india...|http://dhs.kerala...|     Italian tourist|        1|\n",
            "|            11|            KL-P1-P1|      3/4/2020|                null|         55|     M|         null|         Italians|       Haryana|     Recovered|Travelled from Italy|                                     null|      Italy|            Imported|         3/29/2020|https://indianexp...|https://www.india...|http://dhs.kerala...|     Italian tourist|        1|\n",
            "|            12|            KL-PT-P2|      3/4/2020|                null|         55|     M|         null|         Italians|       Haryana|     Recovered|Travelled from Italy|                                     null|      Italy|            Imported|         3/29/2020|https://indianexp...|https://www.india...|http://dhs.kerala...|     Italian tourist|        1|\n",
            "|            13|            KL-PT-P2|      3/4/2020|                null|         55|     M|         null|         Italians|       Haryana|     Recovered|Travelled from Italy|                                     null|      Italy|            Imported|         3/29/2020|https://indianexp...|https://www.india...|https://www.hindu...|     Italian tourist|        1|\n",
            "|            14|               DL-P4|      3/4/2020|                null|         55|     M|         null|         Italians|       Haryana|     Recovered|Travelled from Italy|                                     null|      Italy|            Imported|         3/29/2020|https://indianexp...|https://www.india...|https://www.thehi...|     Italian tourist|        1|\n",
            "|            15|               KA-P1|      3/4/2020|                null|         55|     M|         null|         Italians|       Haryana|     Recovered|Travelled from Italy|                                     null|      Italy|            Imported|         3/29/2020|https://indianexp...|https://www.india...|https://www.thehi...|     Italian tourist|        1|\n",
            "|            16|             KL-KN-1|      3/4/2020|                null|         55|     M|         null|         Italians|       Haryana|     Recovered|Travelled from Italy|                                     null|      Italy|            Imported|         3/29/2020|https://indianexp...|https://www.india...|https://www.thehi...|     Italian tourist|        1|\n",
            "|            17|               PJ-P1|      3/4/2020|                null|         55|     M|         null|         Italians|       Haryana|     Recovered|Travelled from Italy|                                     null|      Italy|            Imported|         3/29/2020|https://indianexp...|https://www.india...|https://www.thehi...|     Italian tourist|        1|\n",
            "|            18|            KL-PT-P3|      3/4/2020|                null|         55|     F|         null|         Italians|       Haryana|  Hospitalized|Travelled from Italy|                                     null|      Italy|            Imported|         3/29/2020|https://indianexp...|https://www.india...|https://www.faceb...|     Italian tourist|        1|\n",
            "|            19|            KL-PT-P4|      3/4/2020|                null|         70|     M|         null|         Italians|       Haryana|  Hospitalized|Travelled from Italy|                                     null|      Italy|            Imported|          3/4/2020|https://indianexp...|https://www.india...|https://www.faceb...|     Italian tourist|        1|\n",
            "|            20|               KA-P2|      3/4/2020|                null|         45|     F|         null|         Italians|       Haryana|     Recovered|Travelled from Italy|                                     null|      Italy|            Imported|          3/4/2020|https://indianexp...|https://www.india...|https://english.m...|     Italian tourist|        1|\n",
            "+--------------+--------------------+--------------+--------------------+-----------+------+-------------+-----------------+--------------+--------------+--------------------+-----------------------------------------+-----------+--------------------+------------------+--------------------+--------------------+--------------------+--------------------+---------+\n",
            "only showing top 20 rows\n",
            "\n"
          ],
          "name": "stdout"
        }
      ]
    },
    {
      "cell_type": "code",
      "metadata": {
        "id": "PBG5TvDX_Gps"
      },
      "source": [
        "vec_assembler = VectorAssembler(inputCols = ('Age Bracket','Patient Number','Num Cases'), outputCol='features')\n",
        "#vec_assembler = VectorAssembler(inputCols = ('Patient_Number'), outputCol = 'features')"
      ],
      "execution_count": null,
      "outputs": []
    },
    {
      "cell_type": "code",
      "metadata": {
        "id": "0xirDFc1_K8t"
      },
      "source": [
        "final_data = vec_assembler.transform(dataset)\n"
      ],
      "execution_count": null,
      "outputs": []
    },
    {
      "cell_type": "code",
      "metadata": {
        "id": "2FKXpULLFYVq"
      },
      "source": [
        "from pyspark.ml.feature import StandardScaler"
      ],
      "execution_count": null,
      "outputs": []
    },
    {
      "cell_type": "code",
      "metadata": {
        "id": "NcKsp7cSFdRv"
      },
      "source": [
        "scaler = StandardScaler(inputCol ='features', outputCol = 'scaledFeatures', withStd = True, withMean = False)"
      ],
      "execution_count": null,
      "outputs": []
    },
    {
      "cell_type": "code",
      "metadata": {
        "id": "GZZdkna7Fg3t"
      },
      "source": [
        "# Compute summary statistics by fitting the StandardScaler\n",
        "scalerModel = scaler.fit(final_data)"
      ],
      "execution_count": null,
      "outputs": []
    },
    {
      "cell_type": "code",
      "metadata": {
        "colab": {
          "base_uri": "https://localhost:8080/"
        },
        "id": "JjJyVifybJek",
        "outputId": "7bd442c0-406c-428e-9776-0efa47b44af7"
      },
      "source": [
        "# Normalize each feature to have unit standard deviation.\n",
        "final_data = scalerModel.transform(final_data)\n",
        "final_data.show()"
      ],
      "execution_count": null,
      "outputs": [
        {
          "output_type": "stream",
          "text": [
            "+--------------+--------------------+--------------+--------------------+-----------+------+-------------+-----------------+--------------+--------------+--------------------+-----------------------------------------+-----------+--------------------+------------------+--------------------+--------------------+--------------------+--------------------+---------+---------------+--------------------+\n",
            "|Patient Number|State Patient Number|Date Announced|Estimated Onset Date|Age Bracket|Gender|Detected City|Detected District|Detected State|Current Status|               Notes|Contracted from which Patient (Suspected)|Nationality|Type of transmission|Status Change Date|            Source_1|            Source_2|            Source_3|        Backup Notes|Num Cases|       features|      scaledFeatures|\n",
            "+--------------+--------------------+--------------+--------------------+-----------+------+-------------+-----------------+--------------+--------------+--------------------+-----------------------------------------+-----------+--------------------+------------------+--------------------+--------------------+--------------------+--------------------+---------+---------------+--------------------+\n",
            "|             1|            KL-TS-P1|     1/30/2020|                null|         20|     F|         null|         Thrissur|        Kerala|     Recovered|Travelled from Wuhan|                                     null|      India|            Imported|         2/14/2020|https://twitter.c...|https://weather.c...|https://weather.c...|  Student from Wuhan|        1| [20.0,1.0,1.0]|[1.39811464534889...|\n",
            "|             2|            KL-AL-P1|      2/2/2020|                null|         45|     M|         null|        Alappuzha|        Kerala|     Recovered|Travelled from Wuhan|                                     null|      India|            Imported|         2/14/2020|https://www.india...|https://weather.c...|https://www.thehi...|  Student from Wuhan|        1| [45.0,2.0,1.0]|[3.14575795203500...|\n",
            "|             3|            KL-KS-P1|      2/3/2020|                null|         24|     M|         null|        Kasaragod|        Kerala|     Recovered|Travelled from Wuhan|                                     null|      India|            Imported|         2/14/2020|https://www.india...|https://twitter.c...|https://twitter.c...|  Student from Wuhan|        1| [24.0,3.0,1.0]|[1.67773757441866...|\n",
            "|             4|               DL-P1|      3/2/2020|                null|         69|     M|         null|       East Delhi|         Delhi|     Recovered|Travelled from Au...|                                     null|      India|            Imported|         3/15/2020|https://www.india...|https://economict...|https://economict...|Travel history to...|        1| [69.0,4.0,1.0]|[4.82349552645367...|\n",
            "|             5|               TS-P1|      3/2/2020|                null|         55|     F|         null|        Hyderabad|     Telangana|     Recovered|Travelled from Du...|                                     null|      India|            Imported|          3/2/2020|https://www.decca...|https://www.india...|https://timesofin...|Travel history to...|        1| [55.0,5.0,1.0]|[3.84481527470945...|\n",
            "|             6|               DL-P2|      3/3/2020|                null|         55|     M|         null|         Italians|     Rajasthan|     Recovered|Travelled from Italy|                                     null|      Italy|            Imported|          3/3/2020|https://indianexp...|https://economict...|http://health.del...|     Italian tourist|        1| [55.0,6.0,1.0]|[3.84481527470945...|\n",
            "|             7|               DL-P3|      3/4/2020|                null|         55|     F|         null|         Italians|       Haryana|     Recovered|Travelled from Italy|                                     null|      Italy|            Imported|         3/29/2020|https://indianexp...|https://www.india...|https://www.india...|     Italian tourist|        1| [55.0,7.0,1.0]|[3.84481527470945...|\n",
            "|             8|               TN-P1|      3/4/2020|                null|         55|     F|         null|         Italians|       Haryana|     Recovered|Travelled from Italy|                                     null|      Italy|            Imported|         3/29/2020|https://indianexp...|https://www.india...|http://dhs.kerala...|     Italian tourist|        1| [55.0,8.0,1.0]|[3.84481527470945...|\n",
            "|             9|            KL-PT-P1|      3/4/2020|                null|         55|     M|         null|         Italians|       Haryana|     Recovered|Travelled from Italy|                                     null|      Italy|            Imported|         3/29/2020|https://indianexp...|https://www.india...|http://dhs.kerala...|     Italian tourist|        1| [55.0,9.0,1.0]|[3.84481527470945...|\n",
            "|            10|            KL-PT-P1|      3/4/2020|                null|         55|     M|         null|         Italians|       Haryana|     Recovered|Travelled from Italy|                                     null|      Italy|            Imported|         3/29/2020|https://indianexp...|https://www.india...|http://dhs.kerala...|     Italian tourist|        1|[55.0,10.0,1.0]|[3.84481527470945...|\n",
            "|            11|            KL-P1-P1|      3/4/2020|                null|         55|     M|         null|         Italians|       Haryana|     Recovered|Travelled from Italy|                                     null|      Italy|            Imported|         3/29/2020|https://indianexp...|https://www.india...|http://dhs.kerala...|     Italian tourist|        1|[55.0,11.0,1.0]|[3.84481527470945...|\n",
            "|            12|            KL-PT-P2|      3/4/2020|                null|         55|     M|         null|         Italians|       Haryana|     Recovered|Travelled from Italy|                                     null|      Italy|            Imported|         3/29/2020|https://indianexp...|https://www.india...|http://dhs.kerala...|     Italian tourist|        1|[55.0,12.0,1.0]|[3.84481527470945...|\n",
            "|            13|            KL-PT-P2|      3/4/2020|                null|         55|     M|         null|         Italians|       Haryana|     Recovered|Travelled from Italy|                                     null|      Italy|            Imported|         3/29/2020|https://indianexp...|https://www.india...|https://www.hindu...|     Italian tourist|        1|[55.0,13.0,1.0]|[3.84481527470945...|\n",
            "|            14|               DL-P4|      3/4/2020|                null|         55|     M|         null|         Italians|       Haryana|     Recovered|Travelled from Italy|                                     null|      Italy|            Imported|         3/29/2020|https://indianexp...|https://www.india...|https://www.thehi...|     Italian tourist|        1|[55.0,14.0,1.0]|[3.84481527470945...|\n",
            "|            15|               KA-P1|      3/4/2020|                null|         55|     M|         null|         Italians|       Haryana|     Recovered|Travelled from Italy|                                     null|      Italy|            Imported|         3/29/2020|https://indianexp...|https://www.india...|https://www.thehi...|     Italian tourist|        1|[55.0,15.0,1.0]|[3.84481527470945...|\n",
            "|            16|             KL-KN-1|      3/4/2020|                null|         55|     M|         null|         Italians|       Haryana|     Recovered|Travelled from Italy|                                     null|      Italy|            Imported|         3/29/2020|https://indianexp...|https://www.india...|https://www.thehi...|     Italian tourist|        1|[55.0,16.0,1.0]|[3.84481527470945...|\n",
            "|            17|               PJ-P1|      3/4/2020|                null|         55|     M|         null|         Italians|       Haryana|     Recovered|Travelled from Italy|                                     null|      Italy|            Imported|         3/29/2020|https://indianexp...|https://www.india...|https://www.thehi...|     Italian tourist|        1|[55.0,17.0,1.0]|[3.84481527470945...|\n",
            "|            18|            KL-PT-P3|      3/4/2020|                null|         55|     F|         null|         Italians|       Haryana|  Hospitalized|Travelled from Italy|                                     null|      Italy|            Imported|         3/29/2020|https://indianexp...|https://www.india...|https://www.faceb...|     Italian tourist|        1|[55.0,18.0,1.0]|[3.84481527470945...|\n",
            "|            19|            KL-PT-P4|      3/4/2020|                null|         70|     M|         null|         Italians|       Haryana|  Hospitalized|Travelled from Italy|                                     null|      Italy|            Imported|          3/4/2020|https://indianexp...|https://www.india...|https://www.faceb...|     Italian tourist|        1|[70.0,19.0,1.0]|[4.89340125872111...|\n",
            "|            20|               KA-P2|      3/4/2020|                null|         45|     F|         null|         Italians|       Haryana|     Recovered|Travelled from Italy|                                     null|      Italy|            Imported|          3/4/2020|https://indianexp...|https://www.india...|https://english.m...|     Italian tourist|        1|[45.0,20.0,1.0]|[3.14575795203500...|\n",
            "+--------------+--------------------+--------------+--------------------+-----------+------+-------------+-----------------+--------------+--------------+--------------------+-----------------------------------------+-----------+--------------------+------------------+--------------------+--------------------+--------------------+--------------------+---------+---------------+--------------------+\n",
            "only showing top 20 rows\n",
            "\n"
          ],
          "name": "stdout"
        }
      ]
    },
    {
      "cell_type": "code",
      "metadata": {
        "id": "wyh_XHBsbn5y"
      },
      "source": [
        "# Training a k-means model.\n",
        "kmeans = KMeans(featuresCol='scaledFeatures',k=3)\n",
        "model = kmeans.fit(final_data)"
      ],
      "execution_count": null,
      "outputs": []
    },
    {
      "cell_type": "code",
      "metadata": {
        "colab": {
          "base_uri": "https://localhost:8080/"
        },
        "id": "4D3tALHkbsAS",
        "outputId": "9bad0ae1-d3a3-41eb-ac14-678860676d68"
      },
      "source": [
        "# Evaluate clustering by computing Within Set Sum of Squared Errors.\n",
        "wssse = model.computeCost(final_data)\n",
        "print(\"Within Set Sum of Squared Errors = \" + str(wssse))"
      ],
      "execution_count": null,
      "outputs": [
        {
          "output_type": "stream",
          "text": [
            "Within Set Sum of Squared Errors = 25.39660262662114\n"
          ],
          "name": "stdout"
        }
      ]
    },
    {
      "cell_type": "code",
      "metadata": {
        "colab": {
          "base_uri": "https://localhost:8080/"
        },
        "id": "MMmGVco2bu8S",
        "outputId": "dbf48e30-2c17-4670-d6c6-fd694c8e2b37"
      },
      "source": [
        "\n",
        "centers = model.clusterCenters()\n",
        "print(\"Cluster Centers: \")\n",
        "for center in centers:\n",
        "    print(center)"
      ],
      "execution_count": null,
      "outputs": [
        {
          "output_type": "stream",
          "text": [
            "Cluster Centers: \n",
            "[3.2545002  0.83550442 0.        ]\n",
            "[3.53292816 2.50651325 0.        ]\n",
            "[4.82349553 0.58976782 0.        ]\n"
          ],
          "name": "stdout"
        }
      ]
    },
    {
      "cell_type": "code",
      "metadata": {
        "colab": {
          "base_uri": "https://localhost:8080/"
        },
        "id": "bwX6cSzrb4ps",
        "outputId": "b888598a-0d3b-4337-d348-f3dc6046a83d"
      },
      "source": [
        "model.transform(final_data).select('prediction').show()"
      ],
      "execution_count": null,
      "outputs": [
        {
          "output_type": "stream",
          "text": [
            "+----------+\n",
            "|prediction|\n",
            "+----------+\n",
            "|         0|\n",
            "|         0|\n",
            "|         0|\n",
            "|         2|\n",
            "|         0|\n",
            "|         0|\n",
            "|         0|\n",
            "|         0|\n",
            "|         0|\n",
            "|         0|\n",
            "|         1|\n",
            "|         1|\n",
            "|         1|\n",
            "|         1|\n",
            "|         1|\n",
            "|         1|\n",
            "|         1|\n",
            "|         1|\n",
            "|         1|\n",
            "|         1|\n",
            "+----------+\n",
            "only showing top 20 rows\n",
            "\n"
          ],
          "name": "stdout"
        }
      ]
    }
  ]
}